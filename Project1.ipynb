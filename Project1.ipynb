{
 "cells": [
  {
   "cell_type": "markdown",
   "metadata": {},
   "source": [
    "## IS 362 – Project 1\n",
    "#### Project Tasks:\n",
    "+ Create a .CSV file (or optionally, a MySQL database!) that includes all of the information below. You may change the structure of the information as you like.\n",
    "+ Read the information from your.CSV file into pandas,and perform analysis to compare the arrival delays for the two airlines.\n",
    "+ Your code should be in a Jupyter(IPython)notebook(in GitHub),and should include narrative descriptions of your analysis and conclusions."
   ]
  },
  {
   "cell_type": "code",
   "execution_count": 1,
   "metadata": {},
   "outputs": [],
   "source": [
    "import pandas as pd\n",
    "import matplotlib.pyplot as plt"
   ]
  },
  {
   "cell_type": "markdown",
   "metadata": {},
   "source": [
    "The .csv file is read and displayed into Jupyter notebook. The table created by reader includes 10 rows and 4 columns. Table includes all the data about both airlines. "
   ]
  },
  {
   "cell_type": "code",
   "execution_count": 2,
   "metadata": {},
   "outputs": [
    {
     "data": {
      "text/html": [
       "<div>\n",
       "<style scoped>\n",
       "    .dataframe tbody tr th:only-of-type {\n",
       "        vertical-align: middle;\n",
       "    }\n",
       "\n",
       "    .dataframe tbody tr th {\n",
       "        vertical-align: top;\n",
       "    }\n",
       "\n",
       "    .dataframe thead th {\n",
       "        text-align: right;\n",
       "    }\n",
       "</style>\n",
       "<table border=\"1\" class=\"dataframe\">\n",
       "  <thead>\n",
       "    <tr style=\"text-align: right;\">\n",
       "      <th></th>\n",
       "      <th>Airline</th>\n",
       "      <th>Destination</th>\n",
       "      <th>On time</th>\n",
       "      <th>Delayed</th>\n",
       "    </tr>\n",
       "  </thead>\n",
       "  <tbody>\n",
       "    <tr>\n",
       "      <th>0</th>\n",
       "      <td>Alaska</td>\n",
       "      <td>Los Angeles</td>\n",
       "      <td>497</td>\n",
       "      <td>62</td>\n",
       "    </tr>\n",
       "    <tr>\n",
       "      <th>1</th>\n",
       "      <td>Alaska</td>\n",
       "      <td>Phoenix</td>\n",
       "      <td>221</td>\n",
       "      <td>12</td>\n",
       "    </tr>\n",
       "    <tr>\n",
       "      <th>2</th>\n",
       "      <td>Alaska</td>\n",
       "      <td>San Diego</td>\n",
       "      <td>212</td>\n",
       "      <td>20</td>\n",
       "    </tr>\n",
       "    <tr>\n",
       "      <th>3</th>\n",
       "      <td>Alaska</td>\n",
       "      <td>San Francisco</td>\n",
       "      <td>503</td>\n",
       "      <td>102</td>\n",
       "    </tr>\n",
       "    <tr>\n",
       "      <th>4</th>\n",
       "      <td>Alaska</td>\n",
       "      <td>Seattle</td>\n",
       "      <td>1841</td>\n",
       "      <td>305</td>\n",
       "    </tr>\n",
       "    <tr>\n",
       "      <th>5</th>\n",
       "      <td>AM West</td>\n",
       "      <td>Los Angeles</td>\n",
       "      <td>694</td>\n",
       "      <td>117</td>\n",
       "    </tr>\n",
       "    <tr>\n",
       "      <th>6</th>\n",
       "      <td>AM West</td>\n",
       "      <td>Phoenix</td>\n",
       "      <td>4840</td>\n",
       "      <td>415</td>\n",
       "    </tr>\n",
       "    <tr>\n",
       "      <th>7</th>\n",
       "      <td>AM West</td>\n",
       "      <td>San Diego</td>\n",
       "      <td>383</td>\n",
       "      <td>65</td>\n",
       "    </tr>\n",
       "    <tr>\n",
       "      <th>8</th>\n",
       "      <td>AM West</td>\n",
       "      <td>San Francisco</td>\n",
       "      <td>383</td>\n",
       "      <td>65</td>\n",
       "    </tr>\n",
       "    <tr>\n",
       "      <th>9</th>\n",
       "      <td>AM West</td>\n",
       "      <td>Seattle</td>\n",
       "      <td>201</td>\n",
       "      <td>61</td>\n",
       "    </tr>\n",
       "  </tbody>\n",
       "</table>\n",
       "</div>"
      ],
      "text/plain": [
       "   Airline    Destination  On time  Delayed\n",
       "0   Alaska    Los Angeles      497       62\n",
       "1   Alaska        Phoenix      221       12\n",
       "2   Alaska      San Diego      212       20\n",
       "3   Alaska  San Francisco      503      102\n",
       "4   Alaska        Seattle     1841      305\n",
       "5  AM West    Los Angeles      694      117\n",
       "6  AM West        Phoenix     4840      415\n",
       "7  AM West      San Diego      383       65\n",
       "8  AM West  San Francisco      383       65\n",
       "9  AM West        Seattle      201       61"
      ]
     },
     "execution_count": 2,
     "metadata": {},
     "output_type": "execute_result"
    }
   ],
   "source": [
    "s = pd.read_csv(\"flight_delays.csv\") \n",
    "s"
   ]
  },
  {
   "cell_type": "markdown",
   "metadata": {},
   "source": [
    "Since we are only analizing airline delayes, two rows will be retrived \"Destination\" and \"Delayed\" for the Alaska airlines in addition max delay number will be highlighted. "
   ]
  },
  {
   "cell_type": "code",
   "execution_count": 17,
   "metadata": {},
   "outputs": [],
   "source": [
    "a = pd.read_csv(\"flight_delays.csv\", usecols = [\"Destination\",\"Delayed\"], index_col = \"Destination\")\n",
    "d = a.head(4)\n",
    "def highlight_max(s):\n",
    "    is_max = s == s.max()\n",
    "    return ['background-color: yellow' if v else '' for v in is_max]"
   ]
  },
  {
   "cell_type": "code",
   "execution_count": 18,
   "metadata": {},
   "outputs": [
    {
     "data": {
      "text/html": [
       "<style  type=\"text/css\" >\n",
       "    #T_9ab92f08_1a96_11e8_b5bb_60f81dc5ae46row3_col0 {\n",
       "            background-color:  yellow;\n",
       "        }</style>  \n",
       "<table id=\"T_9ab92f08_1a96_11e8_b5bb_60f81dc5ae46\" > \n",
       "<thead>    <tr> \n",
       "        <th class=\"blank level0\" ></th> \n",
       "        <th class=\"col_heading level0 col0\" >Delayed</th> \n",
       "    </tr>    <tr> \n",
       "        <th class=\"index_name level0\" >Destination</th> \n",
       "        <th class=\"blank\" ></th> \n",
       "    </tr></thead> \n",
       "<tbody>    <tr> \n",
       "        <th id=\"T_9ab92f08_1a96_11e8_b5bb_60f81dc5ae46level0_row0\" class=\"row_heading level0 row0\" >Los Angeles</th> \n",
       "        <td id=\"T_9ab92f08_1a96_11e8_b5bb_60f81dc5ae46row0_col0\" class=\"data row0 col0\" >62</td> \n",
       "    </tr>    <tr> \n",
       "        <th id=\"T_9ab92f08_1a96_11e8_b5bb_60f81dc5ae46level0_row1\" class=\"row_heading level0 row1\" >Phoenix</th> \n",
       "        <td id=\"T_9ab92f08_1a96_11e8_b5bb_60f81dc5ae46row1_col0\" class=\"data row1 col0\" >12</td> \n",
       "    </tr>    <tr> \n",
       "        <th id=\"T_9ab92f08_1a96_11e8_b5bb_60f81dc5ae46level0_row2\" class=\"row_heading level0 row2\" >San Diego</th> \n",
       "        <td id=\"T_9ab92f08_1a96_11e8_b5bb_60f81dc5ae46row2_col0\" class=\"data row2 col0\" >20</td> \n",
       "    </tr>    <tr> \n",
       "        <th id=\"T_9ab92f08_1a96_11e8_b5bb_60f81dc5ae46level0_row3\" class=\"row_heading level0 row3\" >San Francisco</th> \n",
       "        <td id=\"T_9ab92f08_1a96_11e8_b5bb_60f81dc5ae46row3_col0\" class=\"data row3 col0\" >102</td> \n",
       "    </tr></tbody> \n",
       "</table> "
      ],
      "text/plain": [
       "<pandas.io.formats.style.Styler at 0x11e38def0>"
      ]
     },
     "execution_count": 18,
     "metadata": {},
     "output_type": "execute_result"
    }
   ],
   "source": [
    "d.style.apply(highlight_max, subset=['Delayed'])"
   ]
  },
  {
   "cell_type": "markdown",
   "metadata": {},
   "source": [
    "To visualize the analysis the graph will be plotted to ilustrate max delays of Alaska airlines by the city of destination."
   ]
  },
  {
   "cell_type": "code",
   "execution_count": 14,
   "metadata": {},
   "outputs": [
    {
     "data": {
      "text/plain": [
       "Text(0.5,0.98,'Alaska Airlines Flight Delays')"
      ]
     },
     "execution_count": 14,
     "metadata": {},
     "output_type": "execute_result"
    },
    {
     "data": {
      "image/png": "[encoded data removed]",
      "text/plain": [
       "<matplotlib.figure.Figure at 0x110744898>"
      ]
     },
     "metadata": {},
     "output_type": "display_data"
    }
   ],
   "source": [
    "plt.style.use(\"ggplot\")\n",
    "d.plot.barh()\n",
    "plt.suptitle(\"Alaska Airlines Flight Delays\")"
   ]
  },
  {
   "cell_type": "markdown",
   "metadata": {},
   "source": [
    "Similarly to the Alaska airlines \"Destination\" and \"Delayed\" will be retrived for AM West airlines and max delayed number will be highlighted."
   ]
  },
  {
   "cell_type": "code",
   "execution_count": 22,
   "metadata": {},
   "outputs": [
    {
     "data": {
      "text/html": [
       "<style  type=\"text/css\" >\n",
       "    #T_0c9c0188_1a9a_11e8_aa7f_60f81dc5ae46row1_col0 {\n",
       "            background-color:  yellow;\n",
       "        }</style>  \n",
       "<table id=\"T_0c9c0188_1a9a_11e8_aa7f_60f81dc5ae46\" > \n",
       "<thead>    <tr> \n",
       "        <th class=\"blank level0\" ></th> \n",
       "        <th class=\"col_heading level0 col0\" >Delayed</th> \n",
       "    </tr>    <tr> \n",
       "        <th class=\"index_name level0\" >Destination</th> \n",
       "        <th class=\"blank\" ></th> \n",
       "    </tr></thead> \n",
       "<tbody>    <tr> \n",
       "        <th id=\"T_0c9c0188_1a9a_11e8_aa7f_60f81dc5ae46level0_row0\" class=\"row_heading level0 row0\" >Los Angeles</th> \n",
       "        <td id=\"T_0c9c0188_1a9a_11e8_aa7f_60f81dc5ae46row0_col0\" class=\"data row0 col0\" >117</td> \n",
       "    </tr>    <tr> \n",
       "        <th id=\"T_0c9c0188_1a9a_11e8_aa7f_60f81dc5ae46level0_row1\" class=\"row_heading level0 row1\" >Phoenix</th> \n",
       "        <td id=\"T_0c9c0188_1a9a_11e8_aa7f_60f81dc5ae46row1_col0\" class=\"data row1 col0\" >415</td> \n",
       "    </tr>    <tr> \n",
       "        <th id=\"T_0c9c0188_1a9a_11e8_aa7f_60f81dc5ae46level0_row2\" class=\"row_heading level0 row2\" >San Diego</th> \n",
       "        <td id=\"T_0c9c0188_1a9a_11e8_aa7f_60f81dc5ae46row2_col0\" class=\"data row2 col0\" >65</td> \n",
       "    </tr>    <tr> \n",
       "        <th id=\"T_0c9c0188_1a9a_11e8_aa7f_60f81dc5ae46level0_row3\" class=\"row_heading level0 row3\" >San Francisco</th> \n",
       "        <td id=\"T_0c9c0188_1a9a_11e8_aa7f_60f81dc5ae46row3_col0\" class=\"data row3 col0\" >65</td> \n",
       "    </tr>    <tr> \n",
       "        <th id=\"T_0c9c0188_1a9a_11e8_aa7f_60f81dc5ae46level0_row4\" class=\"row_heading level0 row4\" >Seattle</th> \n",
       "        <td id=\"T_0c9c0188_1a9a_11e8_aa7f_60f81dc5ae46row4_col0\" class=\"data row4 col0\" >61</td> \n",
       "    </tr></tbody> \n",
       "</table> "
      ],
      "text/plain": [
       "<pandas.io.formats.style.Styler at 0x11e39cfd0>"
      ]
     },
     "execution_count": 22,
     "metadata": {},
     "output_type": "execute_result"
    }
   ],
   "source": [
    "w = pd.read_csv(\"flight_delays.csv\", usecols = [\"Destination\",\"Delayed\"], index_col = \"Destination\")\n",
    "m = w.tail(5)\n",
    "m.style.apply(highlight_max, subset=['Delayed'])"
   ]
  },
  {
   "cell_type": "markdown",
   "metadata": {},
   "source": [
    "To visualize the analysis the graph will be plotted to ilustrate max delays of AM West airlines by the city of destination."
   ]
  },
  {
   "cell_type": "code",
   "execution_count": 23,
   "metadata": {},
   "outputs": [
    {
     "data": {
      "text/plain": [
       "Text(0.5,0.98,'AM West Airlines Flight Delays')"
      ]
     },
     "execution_count": 23,
     "metadata": {},
     "output_type": "execute_result"
    },
    {
     "data": {
      "image/png": "[encoded data removed]",
      "text/plain": [
       "<matplotlib.figure.Figure at 0x11e6500b8>"
      ]
     },
     "metadata": {},
     "output_type": "display_data"
    }
   ],
   "source": [
    "m.plot.barh()\n",
    "plt.suptitle(\"AM West Airlines Flight Delays\")"
   ]
  }
 ],
 "metadata": {
  "kernelspec": {
   "display_name": "Python 3",
   "language": "python",
   "name": "python3"
  },
  "language_info": {
   "codemirror_mode": {
    "name": "ipython",
    "version": 3
   },
   "file_extension": ".py",
   "mimetype": "text/x-python",
   "name": "python",
   "nbconvert_exporter": "python",
   "pygments_lexer": "ipython3",
   "version": "3.5.4"
  }
 },
 "nbformat": 4,
 "nbformat_minor": 2
}
